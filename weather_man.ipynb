{
 "cells": [
  {
   "cell_type": "code",
   "execution_count": 80,
   "id": "0e6fe4ad",
   "metadata": {},
   "outputs": [
    {
     "name": "stdout",
     "output_type": "stream",
     "text": [
      "(24, 17)\n"
     ]
    }
   ],
   "source": [
    "import re\n",
    "import os\n",
    "import sys\n",
    "\n",
    "params = 'python weather_man.ipynb -c 2004/8 Dubai_weather'\n",
    "output_flag = get_output_flag(params)\n",
    "date = get_date(params)\n",
    "path = get_path(params)\n",
    "files = get_filtered_files(date, path)\n",
    "temperature = calculate_temperature(path, files)\n",
    "print(temperature)"
   ]
  },
  {
   "cell_type": "code",
   "execution_count": 30,
   "id": "8af51b20",
   "metadata": {},
   "outputs": [],
   "source": [
    "def get_output_flag(params):\n",
    "    try:\n",
    "        return params.split()[2]\n",
    "    except ValueError:\n",
    "        print(\"wrong params entered\")\n",
    "    except IndexError:\n",
    "        print(\"flag not found\")\n",
    "\n",
    "def get_date(params):\n",
    "    try:\n",
    "        month_names = {\"1\": \"Jan\", \"2\": \"Feb\", \"3\": \"Mar\", \"4\": \"Apr\", \"5\": \"May\", \"6\": \"Jun\", \"7\": \"Jul\", \"8\": \"Aug\", \"9\": \"Sep\", \"10\": \"Oct\", \"11\": \"Nov\", \"12\": \"Dec\"}\n",
    "        date = params.split()[3].replace('/', '_')\n",
    "        if \"_\" in date:\n",
    "            split_date = date.split('_')\n",
    "            split_date[-1] = month_names[date.split('_')[-1]]\n",
    "            return '_'.join(split_date)\n",
    "        return date\n",
    "    except ValueError:\n",
    "        print(\"wrong params entered\")\n",
    "    except IndexError:\n",
    "        print(\"date not found\")\n",
    "    except KeyError:\n",
    "        print(\"month not found\")\n",
    "\n",
    "def get_path(params):\n",
    "    try:\n",
    "        return params.split()[4]\n",
    "    except ValueError:\n",
    "        print(\"wrong params entered\")\n",
    "    except IndexError:\n",
    "        print(\"path not found\")\n",
    "\n",
    "def get_filtered_files(date, path):\n",
    "    files = os.listdir(path)\n",
    "    matching_files = [f for f in files if date in f]\n",
    "    return matching_files\n"
   ]
  },
  {
   "cell_type": "code",
   "execution_count": 16,
   "id": "61378f7d",
   "metadata": {},
   "outputs": [],
   "source": [
    "if output_flag == '-e':\n",
    "    'abc'\n",
    "elif output_flag == '-a':\n",
    "    'abc'\n",
    "elif output_flag == '-c':\n",
    "    'abc'"
   ]
  },
  {
   "cell_type": "code",
   "execution_count": 79,
   "id": "5f24d9a4",
   "metadata": {},
   "outputs": [],
   "source": [
    "def calculate_temperature(path, files):\n",
    "    max_temp = -sys.maxsize\n",
    "    min_temp = sys.maxsize\n",
    "    try:\n",
    "        for file in files:\n",
    "            with open((path + '/' + file), 'r') as f:\n",
    "                for row in f:\n",
    "                    line = row.split(',')\n",
    "                    if re.match(r'^\\d{4}-\\d{1,2}-\\d{1,2}$', line[0]):\n",
    "                        if line[1] != '' and int(line[1]) > max_temp:\n",
    "                            max_temp = int(line[1])\n",
    "                        if line[3] != '' and int(line[3]) < min_temp:\n",
    "                            min_temp = int(line[3])\n",
    "    except FileNotFoundError:\n",
    "        print('file not found')\n",
    "    return max_temp, min_temp\n"
   ]
  },
  {
   "cell_type": "code",
   "execution_count": null,
   "id": "ab74f30c",
   "metadata": {},
   "outputs": [],
   "source": []
  },
  {
   "cell_type": "code",
   "execution_count": 251,
   "id": "08231511",
   "metadata": {},
   "outputs": [],
   "source": []
  }
 ],
 "metadata": {
  "kernelspec": {
   "display_name": "Python 3 (ipykernel)",
   "language": "python",
   "name": "python3"
  },
  "language_info": {
   "codemirror_mode": {
    "name": "ipython",
    "version": 3
   },
   "file_extension": ".py",
   "mimetype": "text/x-python",
   "name": "python",
   "nbconvert_exporter": "python",
   "pygments_lexer": "ipython3",
   "version": "3.11.3"
  }
 },
 "nbformat": 4,
 "nbformat_minor": 5
}
